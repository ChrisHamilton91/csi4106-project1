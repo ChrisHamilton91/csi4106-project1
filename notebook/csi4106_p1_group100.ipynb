{
  "nbformat": 4,
  "nbformat_minor": 0,
  "metadata": {
    "colab": {
      "provenance": [],
      "collapsed_sections": [],
      "toc_visible": true,
      "authorship_tag": "ABX9TyM5Nz7cFpqeiPAd7AaFlwRz",
      "include_colab_link": true
    },
    "kernelspec": {
      "name": "python3",
      "display_name": "Python 3"
    },
    "language_info": {
      "name": "python"
    }
  },
  "cells": [
    {
      "cell_type": "markdown",
      "metadata": {
        "id": "view-in-github",
        "colab_type": "text"
      },
      "source": [
        "<a href=\"https://colab.research.google.com/github/ChrisHamilton91/csi4106-project1/blob/master/notebook/csi4106_p1_group100.ipynb\" target=\"_parent\"><img src=\"https://colab.research.google.com/assets/colab-badge.svg\" alt=\"Open In Colab\"/></a>"
      ]
    },
    {
      "cell_type": "markdown",
      "source": [
        "# CSI 4106 Project 1 \n",
        "# Group 100"
      ],
      "metadata": {
        "id": "8wzYDM3a8rfR"
      }
    },
    {
      "cell_type": "markdown",
      "source": [
        "## 1. Understand the classfication task"
      ],
      "metadata": {
        "id": "0EGBDxly9NJv"
      }
    },
    {
      "cell_type": "markdown",
      "source": [
        "Text Here"
      ],
      "metadata": {
        "id": "auDKUNOcBrt6"
      }
    },
    {
      "cell_type": "markdown",
      "source": [
        "## 2. Analyze the dataset"
      ],
      "metadata": {
        "id": "NQ1sXb6f9g0o"
      }
    },
    {
      "cell_type": "markdown",
      "source": [
        "Text Here"
      ],
      "metadata": {
        "id": "PAk9fV-WBxiU"
      }
    },
    {
      "cell_type": "markdown",
      "source": [
        "## 3. Brainstorm about attributes"
      ],
      "metadata": {
        "id": "LyflcQVO9qJL"
      }
    },
    {
      "cell_type": "markdown",
      "source": [
        "Text Here"
      ],
      "metadata": {
        "id": "WvoodNtLBx6F"
      }
    },
    {
      "cell_type": "markdown",
      "source": [
        "## 4. Encode the features"
      ],
      "metadata": {
        "id": "lkIfBMrN9yIR"
      }
    },
    {
      "cell_type": "markdown",
      "source": [
        "Text Here"
      ],
      "metadata": {
        "id": "n2AZxvtTByqg"
      }
    },
    {
      "cell_type": "markdown",
      "source": [
        "## 5. Prepare data using cross-validation"
      ],
      "metadata": {
        "id": "gwn_Ph5E97Ek"
      }
    },
    {
      "cell_type": "markdown",
      "source": [
        "Text Here"
      ],
      "metadata": {
        "id": "VADLEWSJB3Wa"
      }
    },
    {
      "cell_type": "markdown",
      "source": [
        "## 6. Train 3 models (includes re-training)"
      ],
      "metadata": {
        "id": "hgaSIK6H-IwI"
      }
    },
    {
      "cell_type": "markdown",
      "source": [
        "### Naive Bayes I"
      ],
      "metadata": {
        "id": "kv1xpwxy-OLR"
      }
    },
    {
      "cell_type": "code",
      "source": [],
      "metadata": {
        "colab": {
          "base_uri": "https://localhost:8080/"
        },
        "id": "5imEJaB9-xU2",
        "outputId": "c514cdc3-d42e-46bc-e5bc-fc3e076708a3"
      },
      "execution_count": null,
      "outputs": [
        {
          "name": "stdout",
          "output_type": "stream",
          "text": [
            "Once deleted, variables cannot be recovered. Proceed (y/[n])? y\n"
          ]
        }
      ]
    },
    {
      "cell_type": "markdown",
      "source": [
        "### Naive Bayes II"
      ],
      "metadata": {
        "id": "Qh-AlFVBBAFy"
      }
    },
    {
      "cell_type": "code",
      "source": [],
      "metadata": {
        "id": "ZfRX2_zxBBaU"
      },
      "execution_count": null,
      "outputs": []
    },
    {
      "cell_type": "markdown",
      "source": [
        "### Naive Bayes III"
      ],
      "metadata": {
        "id": "xrSSXz9mBBaU"
      }
    },
    {
      "cell_type": "code",
      "source": [],
      "metadata": {
        "id": "yFAvxYP-BAFz"
      },
      "execution_count": null,
      "outputs": []
    },
    {
      "cell_type": "markdown",
      "source": [
        "### Logistic Regression I"
      ],
      "metadata": {
        "id": "u0euvLqX-I95"
      }
    },
    {
      "cell_type": "code",
      "source": [],
      "metadata": {
        "id": "MC_s89C3-x3Q"
      },
      "execution_count": null,
      "outputs": []
    },
    {
      "cell_type": "markdown",
      "source": [
        "### Logistic Regression II"
      ],
      "metadata": {
        "id": "vYl6InvVBGzU"
      }
    },
    {
      "cell_type": "code",
      "source": [],
      "metadata": {
        "id": "idZTAKpSBGzV"
      },
      "execution_count": null,
      "outputs": []
    },
    {
      "cell_type": "markdown",
      "source": [
        "### Logistic Regression III"
      ],
      "metadata": {
        "id": "xbUEo6sJBJ7I"
      }
    },
    {
      "cell_type": "code",
      "source": [],
      "metadata": {
        "id": "wGA-5FeTBJ7J"
      },
      "execution_count": null,
      "outputs": []
    },
    {
      "cell_type": "markdown",
      "source": [
        "### Multi-Layer Perceptron I"
      ],
      "metadata": {
        "id": "OjfFffEa-TPi"
      }
    },
    {
      "cell_type": "code",
      "source": [],
      "metadata": {
        "id": "EoJLgsin-ySv"
      },
      "execution_count": null,
      "outputs": []
    },
    {
      "cell_type": "markdown",
      "source": [
        "### Multi-Layer Perceptron II"
      ],
      "metadata": {
        "id": "PHljyPtKBMcb"
      }
    },
    {
      "cell_type": "code",
      "source": [],
      "metadata": {
        "id": "RKT796-SBMcb"
      },
      "execution_count": null,
      "outputs": []
    },
    {
      "cell_type": "markdown",
      "source": [
        "### Multi-Layer Perceptron III"
      ],
      "metadata": {
        "id": "lFfdbxBeBOwU"
      }
    },
    {
      "cell_type": "code",
      "source": [],
      "metadata": {
        "id": "i8ij6wEKBOwV"
      },
      "execution_count": null,
      "outputs": []
    },
    {
      "cell_type": "markdown",
      "source": [
        "## 7. Test models using cross validation"
      ],
      "metadata": {
        "id": "rzRPo9x0-JIZ"
      }
    },
    {
      "cell_type": "markdown",
      "source": [
        "### Naive Bayes I"
      ],
      "metadata": {
        "id": "ngpXZ0sk_ztE"
      }
    },
    {
      "cell_type": "markdown",
      "source": [
        "### Naive Bayes II"
      ],
      "metadata": {
        "id": "g--UAsBaCxFs"
      }
    },
    {
      "cell_type": "markdown",
      "source": [
        "### Naive Bayes III"
      ],
      "metadata": {
        "id": "Pmbj_bRXCxUt"
      }
    },
    {
      "cell_type": "markdown",
      "source": [
        "### Logistic Regression I"
      ],
      "metadata": {
        "id": "ppc-z4MQ_3k2"
      }
    },
    {
      "cell_type": "markdown",
      "source": [
        "### Logistic Regression II"
      ],
      "metadata": {
        "id": "cSepwnKhC15S"
      }
    },
    {
      "cell_type": "markdown",
      "source": [
        "### Logistic Regression III"
      ],
      "metadata": {
        "id": "HLBu3hDCC2Ey"
      }
    },
    {
      "cell_type": "markdown",
      "source": [
        "### Multi-Layer Perceptron I"
      ],
      "metadata": {
        "id": "dRel2XbS_3vZ"
      }
    },
    {
      "cell_type": "markdown",
      "source": [
        "### Multi-Layer Perceptron II"
      ],
      "metadata": {
        "id": "Xs5jIqvZC4j_"
      }
    },
    {
      "cell_type": "markdown",
      "source": [
        "### Multi-Layer Perceptron III"
      ],
      "metadata": {
        "id": "lXMxSEn3C4rE"
      }
    },
    {
      "cell_type": "markdown",
      "source": [
        "## 8. Perform evaluation with precision / recall"
      ],
      "metadata": {
        "id": "qn1qi27Q-J_h"
      }
    },
    {
      "cell_type": "markdown",
      "source": [
        "### Naive Bayes I"
      ],
      "metadata": {
        "id": "eVQlogFiAXJB"
      }
    },
    {
      "cell_type": "markdown",
      "source": [
        "### Naive Bayes II"
      ],
      "metadata": {
        "id": "R12H2xYWDJFL"
      }
    },
    {
      "cell_type": "markdown",
      "source": [
        "### Naive Bayes III"
      ],
      "metadata": {
        "id": "2UMQjM04DJLW"
      }
    },
    {
      "cell_type": "markdown",
      "source": [
        "### Logistic Regression I"
      ],
      "metadata": {
        "id": "lnoeZm0zAbc_"
      }
    },
    {
      "cell_type": "markdown",
      "source": [
        "### Logistic Regression II"
      ],
      "metadata": {
        "id": "OdxB8cUSDLqy"
      }
    },
    {
      "cell_type": "markdown",
      "source": [
        "### Logistic Regression III"
      ],
      "metadata": {
        "id": "nLRrQmZ-DLte"
      }
    },
    {
      "cell_type": "markdown",
      "source": [
        "### Multi-Layer Perceptron I"
      ],
      "metadata": {
        "id": "6bRIiRCDActK"
      }
    },
    {
      "cell_type": "markdown",
      "source": [
        "### Multi-Layer Perceptron II"
      ],
      "metadata": {
        "id": "V3dUu650DOE6"
      }
    },
    {
      "cell_type": "markdown",
      "source": [
        "### Multi-Layer Perceptron III"
      ],
      "metadata": {
        "id": "UzUHM76JDOLx"
      }
    },
    {
      "cell_type": "markdown",
      "source": [
        "## 9. Modify parameters and retrain\n",
        "See steps 6, 7, 8."
      ],
      "metadata": {
        "id": "iE2e4xgb-KI0"
      }
    },
    {
      "cell_type": "markdown",
      "source": [
        "## 10. Analyze obtained results"
      ],
      "metadata": {
        "id": "E4_7R0Og_VV7"
      }
    },
    {
      "cell_type": "markdown",
      "source": [
        "Text Here"
      ],
      "metadata": {
        "id": "G375gZAPCShB"
      }
    },
    {
      "cell_type": "markdown",
      "source": [
        "## References"
      ],
      "metadata": {
        "id": "ON4Bin9TE973"
      }
    },
    {
      "cell_type": "markdown",
      "source": [
        "Text Here"
      ],
      "metadata": {
        "id": "jgRlVqQqFBPm"
      }
    }
  ]
}