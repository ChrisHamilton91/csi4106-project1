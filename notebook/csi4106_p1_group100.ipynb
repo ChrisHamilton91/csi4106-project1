{
  "nbformat": 4,
  "nbformat_minor": 0,
  "metadata": {
    "colab": {
      "provenance": [],
      "collapsed_sections": [],
      "include_colab_link": true
    },
    "kernelspec": {
      "name": "python3",
      "display_name": "Python 3"
    },
    "language_info": {
      "name": "python"
    }
  },
  "cells": [
    {
      "cell_type": "markdown",
      "metadata": {
        "id": "view-in-github",
        "colab_type": "text"
      },
      "source": [
        "<a href=\"https://colab.research.google.com/github/ChrisHamilton91/csi4106-project1/blob/master/notebook/csi4106_p1_group100.ipynb\" target=\"_parent\"><img src=\"https://colab.research.google.com/assets/colab-badge.svg\" alt=\"Open In Colab\"/></a>"
      ]
    },
    {
      "cell_type": "markdown",
      "source": [
        "### This code imports csv and joblib files from github, then sets global variables - used to persist data"
      ],
      "metadata": {
        "id": "1uDYBuiQ_R9K"
      }
    },
    {
      "cell_type": "code",
      "source": [
        "import joblib\n",
        "\n",
        "### DATA ###\n",
        "# class.csv - describes classes\n",
        "!wget 'https://raw.githubusercontent.com/ChrisHamilton91/csi4106-project1/master/data/class.csv'\n",
        "\n",
        "# zoo.csv - describes features\n",
        "!wget 'https://raw.githubusercontent.com/ChrisHamilton91/csi4106-project1/master/data/zoo.csv'\n",
        "\n",
        "# animals - Dataframe from zoo.csv\n",
        "!wget 'https://raw.githubusercontent.com/ChrisHamilton91/csi4106-project1/master/data/animals.joblib'\n",
        "animals = joblib.load('animals.joblib')\n",
        "\n",
        "# features - Dataframe from zoo.csv with animal_name and class_type stripped\n",
        "!wget 'https://raw.githubusercontent.com/ChrisHamilton91/csi4106-project1/master/data/features.joblib'\n",
        "features = joblib.load('features.joblib')\n",
        "\n",
        "# labels - class_type labels for features\n",
        "!wget 'https://raw.githubusercontent.com/ChrisHamilton91/csi4106-project1/master/data/labels.joblib'\n",
        "labels = joblib.load('labels.joblib')\n",
        "\n",
        "# class_dict - Dictionary of { class_number: class_name }\n",
        "!wget 'https://raw.githubusercontent.com/ChrisHamilton91/csi4106-project1/master/data/class_dict.joblib'\n",
        "class_dict = joblib.load('class_dict.joblib')\n",
        "\n",
        "# train_data - training segment of features\n",
        "!wget 'https://raw.githubusercontent.com/ChrisHamilton91/csi4106-project1/master/data/train_data.joblib'\n",
        "train_data = joblib.load('train_data.joblib')\n",
        "\n",
        "# train_labels - labels for train_data\n",
        "!wget 'https://raw.githubusercontent.com/ChrisHamilton91/csi4106-project1/master/data/train_labels.joblib'\n",
        "train_labels = joblib.load('train_labels.joblib')\n",
        "\n",
        "# test_data - testing segment of features\n",
        "!wget 'https://raw.githubusercontent.com/ChrisHamilton91/csi4106-project1/master/data/test_data.joblib'\n",
        "test_data = joblib.load('test_data.joblib')\n",
        "\n",
        "# test_labels - labels for test_data\n",
        "!wget 'https://raw.githubusercontent.com/ChrisHamilton91/csi4106-project1/master/data/test_labels.joblib'\n",
        "test_labels = joblib.load('test_labels.joblib')\n",
        "\n",
        "### MODELS ###\n",
        "# Naive Bayes I\n",
        "!wget 'https://raw.githubusercontent.com/ChrisHamilton91/csi4106-project1/master/models/nb1_model.joblib'\n",
        "nb1_model = joblib.load('nb1_model.joblib')\n",
        "# Naive Bayes II\n",
        "!wget 'https://raw.githubusercontent.com/ChrisHamilton91/csi4106-project1/master/models/nb2_model.joblib'\n",
        "nb2_model = joblib.load('nb2_model.joblib')\n",
        "# Naive Bayes III\n",
        "!wget 'https://raw.githubusercontent.com/ChrisHamilton91/csi4106-project1/master/models/nb3_model.joblib'\n",
        "nb3_model = joblib.load('nb3_model.joblib')"
      ],
      "metadata": {
        "id": "KWztV75Q-5iU"
      },
      "execution_count": null,
      "outputs": []
    },
    {
      "cell_type": "markdown",
      "source": [
        "# CSI 4106 Project 1 \n",
        "# Group 100"
      ],
      "metadata": {
        "id": "8wzYDM3a8rfR"
      }
    },
    {
      "cell_type": "markdown",
      "source": [
        "## 1. Understand the classification task"
      ],
      "metadata": {
        "id": "0EGBDxly9NJv"
      }
    },
    {
      "cell_type": "markdown",
      "source": [
        "a. Is it a binary/multi-class classification dataset?"
      ],
      "metadata": {
        "id": "auDKUNOcBrt6"
      }
    },
    {
      "cell_type": "markdown",
      "source": [
        "b. What is the goal? Is this for a particular classification study?"
      ],
      "metadata": {
        "id": "yi52qgJiWTA2"
      }
    },
    {
      "cell_type": "markdown",
      "source": [
        "## 2. Analyze the dataset"
      ],
      "metadata": {
        "id": "NQ1sXb6f9g0o"
      }
    },
    {
      "cell_type": "markdown",
      "source": [
        "a. Characterize the dataset in terms of number of training examples, number of features, missing data etc."
      ],
      "metadata": {
        "id": "PAk9fV-WBxiU"
      }
    },
    {
      "cell_type": "markdown",
      "source": [
        "## 3. Brainstorm about attributes"
      ],
      "metadata": {
        "id": "LyflcQVO9qJL"
      }
    },
    {
      "cell_type": "markdown",
      "source": [
        "a.Think about the features that could be used for this task. "
      ],
      "metadata": {
        "id": "WvoodNtLBx6F"
      }
    },
    {
      "cell_type": "markdown",
      "source": [
        "## 4. Encode the features"
      ],
      "metadata": {
        "id": "lkIfBMrN9yIR"
      }
    },
    {
      "cell_type": "markdown",
      "source": [
        "The features are encoded as discrete values in the file 'zoo.csv'. We just need to strip the 'animal_name' and 'class_type' columns.\n",
        "\n",
        "We encode the 'class_type' column as the feature labels.\n",
        "\n",
        "We will also extract the names of classes from 'class.csv', and map them to their associated number.\n",
        "\n",
        "We save the objects to a joblib file and transfer them to github for persistence. You can see them being imported at the top of the notebook."
      ],
      "metadata": {
        "id": "n2AZxvtTByqg"
      }
    },
    {
      "cell_type": "code",
      "source": [
        "import pandas as pd\n",
        "import joblib\n",
        "\n",
        "animals = pd.read_csv('zoo.csv')\n",
        "joblib.dump(animals, 'animals.joblib')\n",
        "\n",
        "features = animals.iloc[:,1:-1] # trim animal name and class_type\n",
        "joblib.dump(features, 'features.joblib')\n",
        "\n",
        "labels = animals.iloc[:,-1] # just class_type\n",
        "joblib.dump(labels, 'labels.joblib')\n",
        "\n",
        "classes = pd.read_csv('class.csv')\n",
        "class_dict = {}\n",
        "for _, row in classes.iterrows():\n",
        "   class_dict[row.Class_Number] = row.Class_Type\n",
        "joblib.dump(class_dict, 'class_dict.joblib')\n",
        "\n",
        "print('***************ANIMALS***************')\n",
        "print()\n",
        "print(animals)\n",
        "print()\n",
        "print('***************FEATURES***************')\n",
        "print()\n",
        "print(features)\n",
        "print()\n",
        "print('***************LABELS***************')\n",
        "print()\n",
        "print(labels)\n",
        "print()\n",
        "print('***************CLASS_DICT***************')\n",
        "print()\n",
        "print(class_dict)\n",
        "print()"
      ],
      "metadata": {
        "colab": {
          "base_uri": "https://localhost:8080/"
        },
        "id": "2lt4-mnf9-Q6",
        "outputId": "a454fa17-c142-40e0-ea60-7b496bb62501"
      },
      "execution_count": 36,
      "outputs": [
        {
          "output_type": "stream",
          "name": "stdout",
          "text": [
            "***************ANIMALS***************\n",
            "\n",
            "    animal_name  hair  feathers  eggs  milk  airborne  aquatic  predator  \\\n",
            "0      aardvark     1         0     0     1         0        0         1   \n",
            "1      antelope     1         0     0     1         0        0         0   \n",
            "2          bass     0         0     1     0         0        1         1   \n",
            "3          bear     1         0     0     1         0        0         1   \n",
            "4          boar     1         0     0     1         0        0         1   \n",
            "..          ...   ...       ...   ...   ...       ...      ...       ...   \n",
            "96      wallaby     1         0     0     1         0        0         0   \n",
            "97         wasp     1         0     1     0         1        0         0   \n",
            "98         wolf     1         0     0     1         0        0         1   \n",
            "99         worm     0         0     1     0         0        0         0   \n",
            "100        wren     0         1     1     0         1        0         0   \n",
            "\n",
            "     toothed  backbone  breathes  venomous  fins  legs  tail  domestic  \\\n",
            "0          1         1         1         0     0     4     0         0   \n",
            "1          1         1         1         0     0     4     1         0   \n",
            "2          1         1         0         0     1     0     1         0   \n",
            "3          1         1         1         0     0     4     0         0   \n",
            "4          1         1         1         0     0     4     1         0   \n",
            "..       ...       ...       ...       ...   ...   ...   ...       ...   \n",
            "96         1         1         1         0     0     2     1         0   \n",
            "97         0         0         1         1     0     6     0         0   \n",
            "98         1         1         1         0     0     4     1         0   \n",
            "99         0         0         1         0     0     0     0         0   \n",
            "100        0         1         1         0     0     2     1         0   \n",
            "\n",
            "     catsize  class_type  \n",
            "0          1           1  \n",
            "1          1           1  \n",
            "2          0           4  \n",
            "3          1           1  \n",
            "4          1           1  \n",
            "..       ...         ...  \n",
            "96         1           1  \n",
            "97         0           6  \n",
            "98         1           1  \n",
            "99         0           7  \n",
            "100        0           2  \n",
            "\n",
            "[101 rows x 18 columns]\n",
            "\n",
            "***************FEATURES***************\n",
            "\n",
            "     hair  feathers  eggs  milk  airborne  aquatic  predator  toothed  \\\n",
            "0       1         0     0     1         0        0         1        1   \n",
            "1       1         0     0     1         0        0         0        1   \n",
            "2       0         0     1     0         0        1         1        1   \n",
            "3       1         0     0     1         0        0         1        1   \n",
            "4       1         0     0     1         0        0         1        1   \n",
            "..    ...       ...   ...   ...       ...      ...       ...      ...   \n",
            "96      1         0     0     1         0        0         0        1   \n",
            "97      1         0     1     0         1        0         0        0   \n",
            "98      1         0     0     1         0        0         1        1   \n",
            "99      0         0     1     0         0        0         0        0   \n",
            "100     0         1     1     0         1        0         0        0   \n",
            "\n",
            "     backbone  breathes  venomous  fins  legs  tail  domestic  catsize  \n",
            "0           1         1         0     0     4     0         0        1  \n",
            "1           1         1         0     0     4     1         0        1  \n",
            "2           1         0         0     1     0     1         0        0  \n",
            "3           1         1         0     0     4     0         0        1  \n",
            "4           1         1         0     0     4     1         0        1  \n",
            "..        ...       ...       ...   ...   ...   ...       ...      ...  \n",
            "96          1         1         0     0     2     1         0        1  \n",
            "97          0         1         1     0     6     0         0        0  \n",
            "98          1         1         0     0     4     1         0        1  \n",
            "99          0         1         0     0     0     0         0        0  \n",
            "100         1         1         0     0     2     1         0        0  \n",
            "\n",
            "[101 rows x 16 columns]\n",
            "\n",
            "***************LABELS***************\n",
            "\n",
            "0      1\n",
            "1      1\n",
            "2      4\n",
            "3      1\n",
            "4      1\n",
            "      ..\n",
            "96     1\n",
            "97     6\n",
            "98     1\n",
            "99     7\n",
            "100    2\n",
            "Name: class_type, Length: 101, dtype: int64\n",
            "\n",
            "***************CLASS_DICT***************\n",
            "\n",
            "{1: 'Mammal', 2: 'Bird', 3: 'Reptile', 4: 'Fish', 5: 'Amphibian', 6: 'Bug', 7: 'Invertebrate'}\n",
            "\n"
          ]
        }
      ]
    },
    {
      "cell_type": "markdown",
      "source": [
        "## 5. Prepare data using cross-validation"
      ],
      "metadata": {
        "id": "gwn_Ph5E97Ek"
      }
    },
    {
      "cell_type": "markdown",
      "source": [
        "We split the data into 80% training and 20% testing."
      ],
      "metadata": {
        "id": "VADLEWSJB3Wa"
      }
    },
    {
      "cell_type": "code",
      "source": [
        "import joblib\n",
        "from sklearn.model_selection import train_test_split\n",
        "\n",
        "train_data, test_data, train_labels, test_labels = train_test_split(\n",
        "   features, labels, test_size = 0.20, random_state = 1\n",
        ")\n",
        "\n",
        "joblib.dump(train_data, 'train_data.joblib')\n",
        "joblib.dump(test_data, 'test_data.joblib')\n",
        "joblib.dump(train_labels, 'train_labels.joblib')\n",
        "joblib.dump(test_labels, 'test_labels.joblib')\n",
        "\n",
        "print('***************TRAIN_DATA***************')\n",
        "print()\n",
        "print(train_data)\n",
        "print()\n",
        "print('***************TRAIN_LABELS***************')\n",
        "print()\n",
        "print(train_labels)\n",
        "print()\n",
        "print('***************TEST_DATA***************')\n",
        "print()\n",
        "print(test_data)\n",
        "print()\n",
        "print('***************TEST_LABELS***************')\n",
        "print()\n",
        "print(test_labels)\n",
        "print()"
      ],
      "metadata": {
        "colab": {
          "base_uri": "https://localhost:8080/"
        },
        "id": "kQU1XEbpJti4",
        "outputId": "f9476704-815c-4590-925b-f2505e72e5b2"
      },
      "execution_count": 41,
      "outputs": [
        {
          "output_type": "stream",
          "name": "stdout",
          "text": [
            "***************TRAIN_DATA***************\n",
            "\n",
            "    hair  feathers  eggs  milk  airborne  aquatic  predator  toothed  \\\n",
            "32     1         0     0     1         0        0         0        1   \n",
            "40     1         0     1     0         1        0         0        0   \n",
            "39     1         0     1     0         1        0         0        0   \n",
            "38     0         0     1     0         0        1         1        1   \n",
            "46     0         0     1     0         0        1         1        0   \n",
            "..   ...       ...   ...   ...       ...      ...       ...      ...   \n",
            "75     1         0     0     1         0        1         1        1   \n",
            "9      1         0     0     1         0        0         0        1   \n",
            "72     0         0     0     0         0        0         1        0   \n",
            "12     0         0     1     0         0        1         1        1   \n",
            "37     0         1     1     0         1        0         1        0   \n",
            "\n",
            "    backbone  breathes  venomous  fins  legs  tail  domestic  catsize  \n",
            "32         1         1         0     0     2     0         0        1  \n",
            "40         0         1         0     0     6     0         0        0  \n",
            "39         0         1         1     0     6     0         1        0  \n",
            "38         1         0         0     1     0     1         0        0  \n",
            "46         0         0         0     0     6     0         0        0  \n",
            "..       ...       ...       ...   ...   ...   ...       ...      ...  \n",
            "75         1         1         0     1     2     1         0        1  \n",
            "9          1         1         0     0     4     0         1        0  \n",
            "72         0         1         1     0     8     1         0        0  \n",
            "12         1         0         0     1     0     1         0        0  \n",
            "37         1         1         0     0     2     1         0        0  \n",
            "\n",
            "[80 rows x 16 columns]\n",
            "\n",
            "***************TRAIN_LABELS***************\n",
            "\n",
            "32    1\n",
            "40    6\n",
            "39    6\n",
            "38    4\n",
            "46    7\n",
            "     ..\n",
            "75    1\n",
            "9     1\n",
            "72    7\n",
            "12    4\n",
            "37    2\n",
            "Name: class_type, Length: 80, dtype: int64\n",
            "\n",
            "***************TEST_DATA***************\n",
            "\n",
            "     hair  feathers  eggs  milk  airborne  aquatic  predator  toothed  \\\n",
            "94      1         0     0     1         0        0         0        1   \n",
            "78      0         1     1     0         1        1         1        0   \n",
            "17      1         0     0     1         0        0         0        1   \n",
            "100     0         1     1     0         1        0         0        0   \n",
            "36      1         0     0     1         0        0         0        1   \n",
            "85      0         0     1     0         0        1         1        0   \n",
            "55      1         0     0     1         0        0         0        1   \n",
            "83      0         1     1     0         1        0         0        0   \n",
            "82      0         0     1     0         0        1         0        1   \n",
            "52      0         0     1     0         0        1         1        1   \n",
            "95      0         1     1     0         1        0         1        0   \n",
            "44      1         0     0     1         0        0         1        1   \n",
            "31      1         0     0     1         0        0         0        1   \n",
            "93      1         0     0     1         1        0         0        1   \n",
            "65      1         0     0     1         0        0         0        1   \n",
            "35      1         0     0     1         0        0         0        1   \n",
            "66      0         0     0     1         0        1         1        1   \n",
            "70      1         0     0     1         0        0         0        1   \n",
            "81      0         0     1     0         0        0         0        0   \n",
            "80      0         0     1     0         0        0         1        1   \n",
            "33      0         1     1     0         1        1         1        0   \n",
            "\n",
            "     backbone  breathes  venomous  fins  legs  tail  domestic  catsize  \n",
            "94          1         1         0     0     4     1         0        0  \n",
            "78          1         1         0     0     2     1         0        0  \n",
            "17          1         1         0     0     4     1         0        1  \n",
            "100         1         1         0     0     2     1         0        0  \n",
            "36          1         1         0     0     4     1         0        0  \n",
            "85          0         0         0     0     5     0         0        0  \n",
            "55          1         1         0     0     4     1         0        1  \n",
            "83          1         1         0     0     2     1         0        0  \n",
            "82          1         0         0     1     0     1         0        0  \n",
            "52          1         1         0     0     4     1         0        0  \n",
            "95          1         1         0     0     2     1         0        1  \n",
            "44          1         1         0     0     4     1         0        1  \n",
            "31          1         1         0     0     4     1         1        1  \n",
            "93          1         1         0     0     2     1         0        0  \n",
            "65          1         1         0     0     4     1         1        1  \n",
            "35          1         1         0     0     4     1         1        0  \n",
            "66          1         1         0     1     0     1         0        1  \n",
            "70          1         1         0     0     4     1         1        1  \n",
            "81          0         1         0     0     0     0         0        0  \n",
            "80          1         1         0     0     0     1         0        0  \n",
            "33          1         1         0     0     2     1         0        0  \n",
            "\n",
            "***************TEST_LABELS***************\n",
            "\n",
            "94     1\n",
            "78     2\n",
            "17     1\n",
            "100    2\n",
            "36     1\n",
            "85     7\n",
            "55     1\n",
            "83     2\n",
            "82     4\n",
            "52     5\n",
            "95     2\n",
            "44     1\n",
            "31     1\n",
            "93     1\n",
            "65     1\n",
            "35     1\n",
            "66     1\n",
            "70     1\n",
            "81     7\n",
            "80     3\n",
            "33     2\n",
            "Name: class_type, dtype: int64\n",
            "\n"
          ]
        }
      ]
    },
    {
      "cell_type": "markdown",
      "source": [
        "## 6. Train 3 models (includes re-training)"
      ],
      "metadata": {
        "id": "hgaSIK6H-IwI"
      }
    },
    {
      "cell_type": "markdown",
      "source": [
        "### Naive Bayes I"
      ],
      "metadata": {
        "id": "kv1xpwxy-OLR"
      }
    },
    {
      "cell_type": "markdown",
      "source": [
        "We use Bernoulli Naive Bayes with the default parameters:\n",
        "\n",
        "alpha: 1.0\n",
        "\n",
        "fit_prior: true"
      ],
      "metadata": {
        "id": "hOEqTL45k6N5"
      }
    },
    {
      "cell_type": "code",
      "source": [
        "from sklearn.naive_bayes import BernoulliNB\n",
        "\n",
        "nb1_model = BernoulliNB().fit(train_data, train_labels)\n",
        "joblib.dump(nb1_model, 'nb1_model.joblib')"
      ],
      "metadata": {
        "id": "5imEJaB9-xU2",
        "colab": {
          "base_uri": "https://localhost:8080/"
        },
        "outputId": "fa0ca6ee-7463-4c42-f756-795d3064af22"
      },
      "execution_count": 54,
      "outputs": [
        {
          "output_type": "execute_result",
          "data": {
            "text/plain": [
              "['nb1_model.joblib']"
            ]
          },
          "metadata": {},
          "execution_count": 54
        }
      ]
    },
    {
      "cell_type": "markdown",
      "source": [
        "### Naive Bayes II"
      ],
      "metadata": {
        "id": "Qh-AlFVBBAFy"
      }
    },
    {
      "cell_type": "markdown",
      "source": [
        "We use Bernoulli Naive Bayes and change the alpha (smoothing parameter) to 100:\n",
        "\n",
        "alpha: 100.0\n",
        "\n",
        "fit_prior: true"
      ],
      "metadata": {
        "id": "evUJsKmnly4a"
      }
    },
    {
      "cell_type": "code",
      "source": [
        "from sklearn.naive_bayes import BernoulliNB\n",
        "\n",
        "nb2_model = BernoulliNB(alpha=100.0).fit(train_data, train_labels)\n",
        "joblib.dump(nb2_model, 'nb2_model.joblib')"
      ],
      "metadata": {
        "id": "ZfRX2_zxBBaU",
        "colab": {
          "base_uri": "https://localhost:8080/"
        },
        "outputId": "4ac33f20-437f-4086-bbdc-2f9c73c8e66a"
      },
      "execution_count": 52,
      "outputs": [
        {
          "output_type": "execute_result",
          "data": {
            "text/plain": [
              "['nb2_model.joblib']"
            ]
          },
          "metadata": {},
          "execution_count": 52
        }
      ]
    },
    {
      "cell_type": "markdown",
      "source": [
        "### Naive Bayes III"
      ],
      "metadata": {
        "id": "xrSSXz9mBBaU"
      }
    },
    {
      "cell_type": "markdown",
      "source": [
        "We use Bernoulli Naive Bayes and change fit_prior to False, which uses a uniform prior:\n",
        "\n",
        "alpha: 0.0\n",
        "\n",
        "fit_prior: false"
      ],
      "metadata": {
        "id": "DI7fcaoWmchj"
      }
    },
    {
      "cell_type": "code",
      "source": [
        "from sklearn.naive_bayes import BernoulliNB\n",
        "\n",
        "nb3_model = BernoulliNB(fit_prior=False).fit(train_data, train_labels)\n",
        "joblib.dump(nb3_model, 'nb3_model.joblib')"
      ],
      "metadata": {
        "id": "yFAvxYP-BAFz",
        "colab": {
          "base_uri": "https://localhost:8080/"
        },
        "outputId": "4406d2a0-1194-4b11-846d-2fdabce59915"
      },
      "execution_count": 53,
      "outputs": [
        {
          "output_type": "execute_result",
          "data": {
            "text/plain": [
              "['nb3_model.joblib']"
            ]
          },
          "metadata": {},
          "execution_count": 53
        }
      ]
    },
    {
      "cell_type": "markdown",
      "source": [
        "### Logistic Regression I"
      ],
      "metadata": {
        "id": "u0euvLqX-I95"
      }
    },
    {
      "cell_type": "code",
      "source": [],
      "metadata": {
        "id": "MC_s89C3-x3Q"
      },
      "execution_count": null,
      "outputs": []
    },
    {
      "cell_type": "markdown",
      "source": [
        "### Logistic Regression II"
      ],
      "metadata": {
        "id": "vYl6InvVBGzU"
      }
    },
    {
      "cell_type": "code",
      "source": [],
      "metadata": {
        "id": "idZTAKpSBGzV"
      },
      "execution_count": null,
      "outputs": []
    },
    {
      "cell_type": "markdown",
      "source": [
        "### Logistic Regression III"
      ],
      "metadata": {
        "id": "xbUEo6sJBJ7I"
      }
    },
    {
      "cell_type": "code",
      "source": [],
      "metadata": {
        "id": "wGA-5FeTBJ7J"
      },
      "execution_count": null,
      "outputs": []
    },
    {
      "cell_type": "markdown",
      "source": [
        "### Multi-Layer Perceptron I"
      ],
      "metadata": {
        "id": "OjfFffEa-TPi"
      }
    },
    {
      "cell_type": "code",
      "source": [],
      "metadata": {
        "id": "EoJLgsin-ySv"
      },
      "execution_count": null,
      "outputs": []
    },
    {
      "cell_type": "markdown",
      "source": [
        "### Multi-Layer Perceptron II"
      ],
      "metadata": {
        "id": "PHljyPtKBMcb"
      }
    },
    {
      "cell_type": "code",
      "source": [],
      "metadata": {
        "id": "RKT796-SBMcb"
      },
      "execution_count": null,
      "outputs": []
    },
    {
      "cell_type": "markdown",
      "source": [
        "### Multi-Layer Perceptron III"
      ],
      "metadata": {
        "id": "lFfdbxBeBOwU"
      }
    },
    {
      "cell_type": "code",
      "source": [],
      "metadata": {
        "id": "i8ij6wEKBOwV"
      },
      "execution_count": null,
      "outputs": []
    },
    {
      "cell_type": "markdown",
      "source": [
        "## 7. Test models using cross validation"
      ],
      "metadata": {
        "id": "rzRPo9x0-JIZ"
      }
    },
    {
      "cell_type": "markdown",
      "source": [
        "### Naive Bayes I"
      ],
      "metadata": {
        "id": "ngpXZ0sk_ztE"
      }
    },
    {
      "cell_type": "code",
      "source": [
        "nb1_preds = nb1_model.predict(test_data)\n",
        "\n",
        "print(\"Predictions:\")\n",
        "for i, animal_idx in enumerate(test_data.index):\n",
        "  animal_name = animals.iloc[animal_idx,0]\n",
        "  predicted_class = nb1_preds[i]\n",
        "  class_name = class_dict[predicted_class]\n",
        "  print(animal_name + \": \" + class_name)"
      ],
      "metadata": {
        "colab": {
          "base_uri": "https://localhost:8080/"
        },
        "id": "3hSq8vL9iZL5",
        "outputId": "e4ce0955-1ba2-457a-bc70-01bc0c8957a5"
      },
      "execution_count": 47,
      "outputs": [
        {
          "output_type": "stream",
          "name": "stdout",
          "text": [
            "Predictions:\n",
            "vole: Mammal\n",
            "skimmer: Bird\n",
            "deer: Mammal\n",
            "wren: Bird\n",
            "hare: Mammal\n",
            "starfish: Invertebrate\n",
            "oryx: Mammal\n",
            "sparrow: Bird\n",
            "sole: Fish\n",
            "newt: Amphibian\n",
            "vulture: Bird\n",
            "leopard: Mammal\n",
            "goat: Mammal\n",
            "vampire: Mammal\n",
            "pony: Mammal\n",
            "hamster: Mammal\n",
            "porpoise: Mammal\n",
            "reindeer: Mammal\n",
            "slug: Bug\n",
            "slowworm: Reptile\n",
            "gull: Bird\n"
          ]
        }
      ]
    },
    {
      "cell_type": "markdown",
      "source": [
        "### Naive Bayes II"
      ],
      "metadata": {
        "id": "g--UAsBaCxFs"
      }
    },
    {
      "cell_type": "markdown",
      "source": [
        "### Naive Bayes III"
      ],
      "metadata": {
        "id": "Pmbj_bRXCxUt"
      }
    },
    {
      "cell_type": "markdown",
      "source": [
        "### Logistic Regression I"
      ],
      "metadata": {
        "id": "ppc-z4MQ_3k2"
      }
    },
    {
      "cell_type": "markdown",
      "source": [
        "### Logistic Regression II"
      ],
      "metadata": {
        "id": "cSepwnKhC15S"
      }
    },
    {
      "cell_type": "markdown",
      "source": [
        "### Logistic Regression III"
      ],
      "metadata": {
        "id": "HLBu3hDCC2Ey"
      }
    },
    {
      "cell_type": "markdown",
      "source": [
        "### Multi-Layer Perceptron I"
      ],
      "metadata": {
        "id": "dRel2XbS_3vZ"
      }
    },
    {
      "cell_type": "markdown",
      "source": [
        "### Multi-Layer Perceptron II"
      ],
      "metadata": {
        "id": "Xs5jIqvZC4j_"
      }
    },
    {
      "cell_type": "markdown",
      "source": [
        "### Multi-Layer Perceptron III"
      ],
      "metadata": {
        "id": "lXMxSEn3C4rE"
      }
    },
    {
      "cell_type": "markdown",
      "source": [
        "## 8. Perform evaluation with precision / recall"
      ],
      "metadata": {
        "id": "qn1qi27Q-J_h"
      }
    },
    {
      "cell_type": "markdown",
      "source": [
        "### Naive Bayes I"
      ],
      "metadata": {
        "id": "eVQlogFiAXJB"
      }
    },
    {
      "cell_type": "markdown",
      "source": [
        "### Naive Bayes II"
      ],
      "metadata": {
        "id": "R12H2xYWDJFL"
      }
    },
    {
      "cell_type": "markdown",
      "source": [
        "### Naive Bayes III"
      ],
      "metadata": {
        "id": "2UMQjM04DJLW"
      }
    },
    {
      "cell_type": "markdown",
      "source": [
        "### Logistic Regression I"
      ],
      "metadata": {
        "id": "lnoeZm0zAbc_"
      }
    },
    {
      "cell_type": "markdown",
      "source": [
        "### Logistic Regression II"
      ],
      "metadata": {
        "id": "OdxB8cUSDLqy"
      }
    },
    {
      "cell_type": "markdown",
      "source": [
        "### Logistic Regression III"
      ],
      "metadata": {
        "id": "nLRrQmZ-DLte"
      }
    },
    {
      "cell_type": "markdown",
      "source": [
        "### Multi-Layer Perceptron I"
      ],
      "metadata": {
        "id": "6bRIiRCDActK"
      }
    },
    {
      "cell_type": "markdown",
      "source": [
        "### Multi-Layer Perceptron II"
      ],
      "metadata": {
        "id": "V3dUu650DOE6"
      }
    },
    {
      "cell_type": "markdown",
      "source": [
        "### Multi-Layer Perceptron III"
      ],
      "metadata": {
        "id": "UzUHM76JDOLx"
      }
    },
    {
      "cell_type": "markdown",
      "source": [
        "## 9. Modify parameters and retrain\n",
        "See steps 6, 7, 8."
      ],
      "metadata": {
        "id": "iE2e4xgb-KI0"
      }
    },
    {
      "cell_type": "markdown",
      "source": [
        "## 10. Analyze obtained results"
      ],
      "metadata": {
        "id": "E4_7R0Og_VV7"
      }
    },
    {
      "cell_type": "markdown",
      "source": [
        "Text Here"
      ],
      "metadata": {
        "id": "G375gZAPCShB"
      }
    },
    {
      "cell_type": "markdown",
      "source": [
        "## References"
      ],
      "metadata": {
        "id": "ON4Bin9TE973"
      }
    },
    {
      "cell_type": "markdown",
      "source": [
        "Text Here"
      ],
      "metadata": {
        "id": "jgRlVqQqFBPm"
      }
    }
  ]
}