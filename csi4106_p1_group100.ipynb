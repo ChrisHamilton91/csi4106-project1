{
  "nbformat": 4,
  "nbformat_minor": 0,
  "metadata": {
    "colab": {
      "provenance": [],
      "collapsed_sections": [],
      "include_colab_link": true
    },
    "kernelspec": {
      "name": "python3",
      "display_name": "Python 3"
    },
    "language_info": {
      "name": "python"
    }
  },
  "cells": [
    {
      "cell_type": "markdown",
      "metadata": {
        "id": "view-in-github",
        "colab_type": "text"
      },
      "source": [
        "<a href=\"https://colab.research.google.com/github/ChrisHamilton91/csi4106-project1/blob/master/csi4106_p1_group100.ipynb\" target=\"_parent\"><img src=\"https://colab.research.google.com/assets/colab-badge.svg\" alt=\"Open In Colab\"/></a>"
      ]
    },
    {
      "cell_type": "markdown",
      "source": [
        "# CSI 4106 Project 1 \n",
        "# Group 100"
      ],
      "metadata": {
        "id": "8wzYDM3a8rfR"
      }
    },
    {
      "cell_type": "markdown",
      "source": [
        "## 1. Understand the classfication task"
      ],
      "metadata": {
        "id": "0EGBDxly9NJv"
      }
    },
    {
      "cell_type": "markdown",
      "source": [
        "a. Is it a binary/multi-class classification dataset?"
      ],
      "metadata": {
        "id": "auDKUNOcBrt6"
      }
    },
    {
      "cell_type": "markdown",
      "source": [
        "b. What is the goal? Is this for a particular classification study?"
      ],
      "metadata": {
        "id": "yi52qgJiWTA2"
      }
    },
    {
      "cell_type": "markdown",
      "source": [
        "## 2. Analyze the dataset"
      ],
      "metadata": {
        "id": "NQ1sXb6f9g0o"
      }
    },
    {
      "cell_type": "markdown",
      "source": [
        "a. Characterize the dataset in terms of number of training examples, number of features, missing data etc."
      ],
      "metadata": {
        "id": "PAk9fV-WBxiU"
      }
    },
    {
      "cell_type": "markdown",
      "source": [
        "## 3. Brainstorm about attributes"
      ],
      "metadata": {
        "id": "LyflcQVO9qJL"
      }
    },
    {
      "cell_type": "markdown",
      "source": [
        "a.Think about the features that could be used for this task. "
      ],
      "metadata": {
        "id": "WvoodNtLBx6F"
      }
    },
    {
      "cell_type": "markdown",
      "source": [
        "## 4. Encode the features"
      ],
      "metadata": {
        "id": "lkIfBMrN9yIR"
      }
    },
    {
      "cell_type": "markdown",
      "source": [
        "Text Here"
      ],
      "metadata": {
        "id": "n2AZxvtTByqg"
      }
    },
    {
      "cell_type": "markdown",
      "source": [
        "## 5. Prepare data using cross-validation"
      ],
      "metadata": {
        "id": "gwn_Ph5E97Ek"
      }
    },
    {
      "cell_type": "markdown",
      "source": [
        "Text Here"
      ],
      "metadata": {
        "id": "VADLEWSJB3Wa"
      }
    },
    {
      "cell_type": "markdown",
      "source": [
        "## 6. Train 3 models (includes re-training)"
      ],
      "metadata": {
        "id": "hgaSIK6H-IwI"
      }
    },
    {
      "cell_type": "markdown",
      "source": [
        "### Naive Bayes I"
      ],
      "metadata": {
        "id": "kv1xpwxy-OLR"
      }
    },
    {
      "cell_type": "code",
      "source": [
        "import pandas as pd\n",
        "import joblib\n",
        "from sklearn.model_selection import train_test_split\n",
        "from sklearn.naive_bayes import GaussianNB\n",
        "\n",
        "animals = pd.read_csv('zoo.csv')\n",
        "classes = pd.read_csv('class.csv')\n",
        "class_dict = {}\n",
        "for _, row in classes.iterrows():\n",
        "   class_dict[row.Class_Number] = row.Class_Type\n",
        "\n",
        "# Trim animal name and class\n",
        "features = animals.iloc[:,1:-1]\n",
        "\n",
        "# Get class types\n",
        "labels = animals.iloc[:,-1]\n",
        "\n",
        "train, test, train_labels, test_labels = train_test_split(\n",
        "   features, labels, test_size = 0.30, random_state = 1\n",
        ")\n",
        "\n",
        "gnb = GaussianNB()\n",
        "model = gnb.fit(train, train_labels)\n",
        "joblib.dump(model, 'naive_bayes_I_model.joblib')\n",
        "\n",
        "preds = model.predict(test)\n",
        "print(\"Predictions:\")\n",
        "for i, animal_idx in enumerate(test.index):\n",
        "  animal_name = animals.iloc[animal_idx,0]\n",
        "  predicted_class = preds[i]\n",
        "  class_name = class_dict[predicted_class]\n",
        "  print(animal_name + \": \" + class_name)"
      ],
      "metadata": {
        "id": "5imEJaB9-xU2",
        "colab": {
          "base_uri": "https://localhost:8080/"
        },
        "outputId": "c1a3d959-b810-4aed-838d-f5dc820b89fb"
      },
      "execution_count": null,
      "outputs": [
        {
          "output_type": "stream",
          "name": "stdout",
          "text": [
            "Predictions:\n",
            "vole: Mammal\n",
            "skimmer: Bird\n",
            "deer: Mammal\n",
            "wren: Bird\n",
            "hare: Mammal\n",
            "starfish: Invertebrate\n",
            "oryx: Mammal\n",
            "sparrow: Bird\n",
            "sole: Fish\n",
            "newt: Reptile\n",
            "vulture: Bird\n",
            "leopard: Mammal\n",
            "goat: Mammal\n",
            "vampire: Mammal\n",
            "pony: Mammal\n",
            "hamster: Mammal\n",
            "porpoise: Mammal\n",
            "reindeer: Mammal\n",
            "slug: Invertebrate\n",
            "slowworm: Reptile\n",
            "gull: Bird\n",
            "gorilla: Mammal\n",
            "housefly: Bug\n",
            "honeybee: Bug\n",
            "herring: Fish\n",
            "lobster: Invertebrate\n",
            "ladybird: Bug\n",
            "cheetah: Mammal\n",
            "bass: Fish\n",
            "opossum: Mammal\n",
            "puma: Mammal\n"
          ]
        }
      ]
    },
    {
      "cell_type": "markdown",
      "source": [
        "### Naive Bayes II"
      ],
      "metadata": {
        "id": "Qh-AlFVBBAFy"
      }
    },
    {
      "cell_type": "code",
      "source": [],
      "metadata": {
        "id": "ZfRX2_zxBBaU"
      },
      "execution_count": null,
      "outputs": []
    },
    {
      "cell_type": "markdown",
      "source": [
        "### Naive Bayes III"
      ],
      "metadata": {
        "id": "xrSSXz9mBBaU"
      }
    },
    {
      "cell_type": "code",
      "source": [],
      "metadata": {
        "id": "yFAvxYP-BAFz"
      },
      "execution_count": null,
      "outputs": []
    },
    {
      "cell_type": "markdown",
      "source": [
        "### Logistic Regression I"
      ],
      "metadata": {
        "id": "u0euvLqX-I95"
      }
    },
    {
      "cell_type": "code",
      "source": [],
      "metadata": {
        "id": "MC_s89C3-x3Q"
      },
      "execution_count": null,
      "outputs": []
    },
    {
      "cell_type": "markdown",
      "source": [
        "### Logistic Regression II"
      ],
      "metadata": {
        "id": "vYl6InvVBGzU"
      }
    },
    {
      "cell_type": "code",
      "source": [],
      "metadata": {
        "id": "idZTAKpSBGzV"
      },
      "execution_count": null,
      "outputs": []
    },
    {
      "cell_type": "markdown",
      "source": [
        "### Logistic Regression III"
      ],
      "metadata": {
        "id": "xbUEo6sJBJ7I"
      }
    },
    {
      "cell_type": "code",
      "source": [],
      "metadata": {
        "id": "wGA-5FeTBJ7J"
      },
      "execution_count": null,
      "outputs": []
    },
    {
      "cell_type": "markdown",
      "source": [
        "### Multi-Layer Perceptron I"
      ],
      "metadata": {
        "id": "OjfFffEa-TPi"
      }
    },
    {
      "cell_type": "code",
      "source": [],
      "metadata": {
        "id": "EoJLgsin-ySv"
      },
      "execution_count": null,
      "outputs": []
    },
    {
      "cell_type": "markdown",
      "source": [
        "### Multi-Layer Perceptron II"
      ],
      "metadata": {
        "id": "PHljyPtKBMcb"
      }
    },
    {
      "cell_type": "code",
      "source": [],
      "metadata": {
        "id": "RKT796-SBMcb"
      },
      "execution_count": null,
      "outputs": []
    },
    {
      "cell_type": "markdown",
      "source": [
        "### Multi-Layer Perceptron III"
      ],
      "metadata": {
        "id": "lFfdbxBeBOwU"
      }
    },
    {
      "cell_type": "code",
      "source": [],
      "metadata": {
        "id": "i8ij6wEKBOwV"
      },
      "execution_count": null,
      "outputs": []
    },
    {
      "cell_type": "markdown",
      "source": [
        "## 7. Test models using cross validation"
      ],
      "metadata": {
        "id": "rzRPo9x0-JIZ"
      }
    },
    {
      "cell_type": "markdown",
      "source": [
        "### Naive Bayes I"
      ],
      "metadata": {
        "id": "ngpXZ0sk_ztE"
      }
    },
    {
      "cell_type": "markdown",
      "source": [
        "### Naive Bayes II"
      ],
      "metadata": {
        "id": "g--UAsBaCxFs"
      }
    },
    {
      "cell_type": "markdown",
      "source": [
        "### Naive Bayes III"
      ],
      "metadata": {
        "id": "Pmbj_bRXCxUt"
      }
    },
    {
      "cell_type": "markdown",
      "source": [
        "### Logistic Regression I"
      ],
      "metadata": {
        "id": "ppc-z4MQ_3k2"
      }
    },
    {
      "cell_type": "markdown",
      "source": [
        "### Logistic Regression II"
      ],
      "metadata": {
        "id": "cSepwnKhC15S"
      }
    },
    {
      "cell_type": "markdown",
      "source": [
        "### Logistic Regression III"
      ],
      "metadata": {
        "id": "HLBu3hDCC2Ey"
      }
    },
    {
      "cell_type": "markdown",
      "source": [
        "### Multi-Layer Perceptron I"
      ],
      "metadata": {
        "id": "dRel2XbS_3vZ"
      }
    },
    {
      "cell_type": "markdown",
      "source": [
        "### Multi-Layer Perceptron II"
      ],
      "metadata": {
        "id": "Xs5jIqvZC4j_"
      }
    },
    {
      "cell_type": "markdown",
      "source": [
        "### Multi-Layer Perceptron III"
      ],
      "metadata": {
        "id": "lXMxSEn3C4rE"
      }
    },
    {
      "cell_type": "markdown",
      "source": [
        "## 8. Perform evaluation with precision / recall"
      ],
      "metadata": {
        "id": "qn1qi27Q-J_h"
      }
    },
    {
      "cell_type": "markdown",
      "source": [
        "### Naive Bayes I"
      ],
      "metadata": {
        "id": "eVQlogFiAXJB"
      }
    },
    {
      "cell_type": "markdown",
      "source": [
        "### Naive Bayes II"
      ],
      "metadata": {
        "id": "R12H2xYWDJFL"
      }
    },
    {
      "cell_type": "markdown",
      "source": [
        "### Naive Bayes III"
      ],
      "metadata": {
        "id": "2UMQjM04DJLW"
      }
    },
    {
      "cell_type": "markdown",
      "source": [
        "### Logistic Regression I"
      ],
      "metadata": {
        "id": "lnoeZm0zAbc_"
      }
    },
    {
      "cell_type": "markdown",
      "source": [
        "### Logistic Regression II"
      ],
      "metadata": {
        "id": "OdxB8cUSDLqy"
      }
    },
    {
      "cell_type": "markdown",
      "source": [
        "### Logistic Regression III"
      ],
      "metadata": {
        "id": "nLRrQmZ-DLte"
      }
    },
    {
      "cell_type": "markdown",
      "source": [
        "### Multi-Layer Perceptron I"
      ],
      "metadata": {
        "id": "6bRIiRCDActK"
      }
    },
    {
      "cell_type": "markdown",
      "source": [
        "### Multi-Layer Perceptron II"
      ],
      "metadata": {
        "id": "V3dUu650DOE6"
      }
    },
    {
      "cell_type": "markdown",
      "source": [
        "### Multi-Layer Perceptron III"
      ],
      "metadata": {
        "id": "UzUHM76JDOLx"
      }
    },
    {
      "cell_type": "markdown",
      "source": [
        "## 9. Modify parameters and retrain\n",
        "See steps 6, 7, 8."
      ],
      "metadata": {
        "id": "iE2e4xgb-KI0"
      }
    },
    {
      "cell_type": "markdown",
      "source": [
        "## 10. Analyze obtained results"
      ],
      "metadata": {
        "id": "E4_7R0Og_VV7"
      }
    },
    {
      "cell_type": "markdown",
      "source": [
        "Text Here"
      ],
      "metadata": {
        "id": "G375gZAPCShB"
      }
    },
    {
      "cell_type": "markdown",
      "source": [
        "## References"
      ],
      "metadata": {
        "id": "ON4Bin9TE973"
      }
    },
    {
      "cell_type": "markdown",
      "source": [
        "Text Here"
      ],
      "metadata": {
        "id": "jgRlVqQqFBPm"
      }
    }
  ]
}